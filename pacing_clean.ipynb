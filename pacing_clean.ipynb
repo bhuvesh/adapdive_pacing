{
 "cells": [
  {
   "cell_type": "code",
   "execution_count": 24,
   "metadata": {},
   "outputs": [],
   "source": [
    "# Import packages and other setup\n",
    "import pandas as pd\n",
    "import numpy as np\n",
    "import matplotlib.pyplot as plt\n",
    "from mpl_toolkits import mplot3d\n",
    "import seaborn as sns\n",
    "import datetime as dt\n",
    "from sklearn.metrics import mean_squared_error\n",
    "from scipy import stats\n",
    "import pickle\n",
    "import statsmodels.api as sm\n",
    "from statsmodels.distributions.empirical_distribution import ECDF\n",
    "import scipy.integrate as integrate\n",
    "from bisect import bisect_left\n",
    "import random\n",
    "import itertools"
   ]
  },
  {
   "cell_type": "code",
   "execution_count": 2,
   "metadata": {},
   "outputs": [],
   "source": [
    "plt.rcParams['figure.figsize'] = (15,10)\n",
    "sns.set()"
   ]
  },
  {
   "cell_type": "code",
   "execution_count": 4,
   "metadata": {},
   "outputs": [],
   "source": [
    "#ex. post optimal strategy\n",
    "def hindsight_strategy(df, budget = 15):\t\t\n",
    "    \"\"\" A function to implement the ex. post optimal pacing strategy for a budget constraint campaign\n",
    "    Sorts the impressions by value/competing bid and buys all top impressions till runs out of budget\n",
    "\n",
    "    Args:\n",
    "        df: The imput dataframe containing 'value' and 'competing_bid' with each row as one impression\n",
    "        budget: The total budget for the campaign\n",
    "\n",
    "    Returns:\n",
    "        A dataframe containing with the following columns for each impression\n",
    "        bang_per_buck: The value per dollar for the impression\n",
    "        won: A binary flag indicating if the impression was won\n",
    "        spend: Spend in this round\n",
    "        utility: Utility obtained in this round\n",
    "        paced_impression_bid: Paced bid\n",
    "        value_obtianed: value_obtained in this round (i.e value*won)\n",
    "        pacing_multiplier: The pacing multiplier used to obtained the shaded bid\n",
    "        index: The index of the impression in the input data\n",
    "\n",
    "    \"\"\"\n",
    "    df['bang_per_buck'] = (df['value'] - df['competing_bid'])/df['competing_bid']\n",
    "    df = df.sort_values(by = 'bang_per_buck', ascending=False)\n",
    "    df['utility'] = 0\n",
    "    df['won'] = False\n",
    "    df['spend'] = 0\n",
    "    shade = 1.0\n",
    "    for index,row in df.iterrows():\n",
    "        if budget-row['competing_bid'] >=0 and row['bang_per_buck']>0:\n",
    "            row['won'] = True\n",
    "            row['utility'] = row['value'] - row['competing_bid']\n",
    "            if row['competing_bid']==0:\n",
    "                shade = np.infty\n",
    "            else:\n",
    "                shade = row['value']/row['competing_bid']\n",
    "            budget = budget - row['competing_bid']\n",
    "            df.loc[index] = row\n",
    "        else:\n",
    "            break\n",
    "    #print(shade)\n",
    "    df['paced_bid'] = df['value']/shade\n",
    "    df.sort_index(inplace=True)\n",
    "    df['spend'] = df['competing_bid']*df['won']\n",
    "    df['index'] = df.index\n",
    "    df['value_obtained'] = df['value']*df['won']\n",
    "    df['pacing_multiplier'] = 1.0/shade\n",
    "    #print(df.head())\n",
    "    return df"
   ]
  },
  {
   "cell_type": "code",
   "execution_count": 6,
   "metadata": {},
   "outputs": [],
   "source": [
    "#No regret adaptive pacing strategy\n",
    "def adaptive_pacing_bg(df, target_spend, learning_rate = 0.001):\n",
    "    \"\"\" A function to simulate an adaptive pacing strategy which attempts match the target spend\n",
    "\n",
    "    Args:\n",
    "        df: The imput dataframe containing 'value' and 'competing_bid' with each row as one impression\n",
    "        target_spend: instantaneous target spend (not cumulative)\n",
    "\n",
    "    Returns:\n",
    "        A dataframe containing with the following columns for each impression\n",
    "        won: A binary flag indicating if the impression was won\n",
    "        spend: Spend in this round\n",
    "        target_spend: Target spend rate in this round\n",
    "        utility: Utility obtained in this round\n",
    "        paced_bid: Paced impression bid\n",
    "        value_obtained: value_obtained in this round (i.e value*won)\n",
    "        pacing_multiplier: The pacing multiplier used to obtained the shaded bid\n",
    "        index: The index of the impression in the input data\n",
    "    \"\"\"\n",
    "        \n",
    "    max_shading = 100\n",
    "    budget = np.sum(target_spend)\n",
    "    cur_shading = 0.01\n",
    "    df['pacing_multiplier'] = 0\n",
    "    df['utility'] = 0\n",
    "    df['won'] = False\n",
    "    df['target_spend'] = target_spend\n",
    "    df['paced_bid'] = 0\n",
    "    df['spend'] = 0\n",
    "    for index,row in df.iterrows():\n",
    "        row['paced_bid'] = min(row['value']/(1 + cur_shading), budget)\n",
    "        if row['paced_bid']==0:\n",
    "            row['pacing_multiplier'] = 0\n",
    "        else:\n",
    "            row['pacing_multiplier'] = row['paced_bid']/row['value']\n",
    "        if row['paced_bid']>=row['competing_bid']:\n",
    "            budget = budget - row['competing_bid']\n",
    "            row['won'] = True\n",
    "            row['utility'] = row['value'] - row['competing_bid']\n",
    "            row['spend'] = row['competing_bid']\n",
    "        cur_shading = cur_shading - learning_rate*(row['target_spend']-row['spend'])\n",
    "        cur_shading = np.clip(cur_shading, a_min = 0, a_max = max_shading)\n",
    "        df.loc[index] = row\n",
    "    df['index'] = df.index\n",
    "    df['value_obtained'] = df['value']*df['won']\n",
    "    #print(df.head())\n",
    "    return df"
   ]
  },
  {
   "cell_type": "code",
   "execution_count": 7,
   "metadata": {},
   "outputs": [],
   "source": [
    "#ex. post optimal strategy\n",
    "def truthful_bidding(df, budget):\n",
    "    \"\"\" A function to implement the ex. post optimal pacing strategy for a budget constraint campaign\n",
    "    Sorts the impressions by value/competing bid and buys all top impressions till runs out of budget\n",
    "\n",
    "    Args:\n",
    "        df: The imput dataframe containing 'value' and 'competing_bid' with each row as one impression\n",
    "        budget: The total budget for the campaign\n",
    "\n",
    "    Returns:\n",
    "        A dataframe containing with the following columns for each impression\n",
    "        bang_per_buck: The value per dollar for the impression\n",
    "        won: A binary flag indicating if the impression was won\n",
    "        spend: Spend in this round\n",
    "        utility: Utility obtained in this round\n",
    "        paced_impression_bid: Paced bid\n",
    "        value_obtianed: value_obtained in this round (i.e value*won)\n",
    "        pacing_multiplier: The pacing multiplier used to obtained the shaded bid\n",
    "        index: The index of the impression in the input data\n",
    "\n",
    "    \"\"\"\n",
    "    df['bang_per_buck'] = (df['value'] - df['competing_bid'])/df['competing_bid']\n",
    "    df['utility'] = 0\n",
    "    df['won'] = False\n",
    "    df['spend'] = 0\n",
    "    for index,row in df.iterrows():\n",
    "        if budget-row['competing_bid'] >=0 and row['bang_per_buck']>0:\n",
    "            row['won'] = True\n",
    "            row['utility'] = row['value'] - row['competing_bid']\n",
    "            budget = budget - row['competing_bid']\n",
    "            df.loc[index] = row\n",
    "    #print(shade)\n",
    "    df['paced_bid'] = df['value']\n",
    "    df['spend'] = df['competing_bid']*df['won']\n",
    "    df['index'] = df.index\n",
    "    df['value_obtained'] = df['value']*df['won']\n",
    "    df['pacing_multiplier'] = 1.0\n",
    "    #print(df.head())\n",
    "    return df"
   ]
  },
  {
   "cell_type": "markdown",
   "metadata": {},
   "source": [
    "# Spend rate estimation fixed price"
   ]
  },
  {
   "cell_type": "code",
   "execution_count": 169,
   "metadata": {},
   "outputs": [],
   "source": [
    "def estimate_spend_rate(df_samples, budget, num_episodes, T):\n",
    "    df = df_samples.copy()\n",
    "    df['episodes'] = np.repeat(range(num_episodes),df_samples.shape[0]/num_episodes)\n",
    "    df['bang_per_buck'] = df['value']/df['competing_bid']\n",
    "    theta = estimate_theta(df, budget, num_episodes, T)\n",
    "    spend_rates = np.empty((0))\n",
    "    spend_rate_ep = np.zeros(num_episodes)\n",
    "    for e in range(num_episodes):\n",
    "        df_e = df[df['episode']==e]\n",
    "        bang_per_buck_cdf_e = ECDF(df_e['bang_per_buck'])\n",
    "        spend_rate_e = 1 - bang_per_buck_cdf_e(theta)\n",
    "        spend_rate_ep[e] = spend_rate_e\n",
    "    spend_rate_ep = spend_rate_ep.clip( min = 1/(num_episodes*100))\n",
    "    spend_rates = np.repeat(spend_rate_ep,T) \n",
    "    spend_sum = np.sum(spend_rates)\n",
    "    print(spend_rate_ep)\n",
    "    if spend_sum != 0:\n",
    "        spend_rates = (spend_rates/spend_sum)*budget\n",
    "    return spend_rates"
   ]
  },
  {
   "cell_type": "code",
   "execution_count": 170,
   "metadata": {},
   "outputs": [],
   "source": [
    "def estimate_theta(df, budget, num_episodes, T):\n",
    "    spend_per_round = budget/(num_episodes*T*df['competing_bid'].iloc[0])\n",
    "    bang_per_buck_cdf = ECDF(df['bang_per_buck'])\n",
    "    theta = smallest_x_with_cdf (bang_per_buck_cdf, 1 - spend_per_round)\n",
    "    return theta"
   ]
  },
  {
   "cell_type": "code",
   "execution_count": 171,
   "metadata": {},
   "outputs": [],
   "source": [
    "def smallest_x_with_cdf(cdf, cdf_thresh):\n",
    "    eps = 1e-5\n",
    "    l = 1.0\n",
    "    r = 1.0\n",
    "    while(cdf(r) <= cdf_thresh):\n",
    "        r = 2*r\n",
    "    x = (l+r)/2\n",
    "    while (r-l > eps):\n",
    "        x = (l+r)/2\n",
    "        if (cdf(x) > cdf_thresh):\n",
    "            r = x\n",
    "        else:\n",
    "            l = x\n",
    "    return x"
   ]
  },
  {
   "cell_type": "markdown",
   "metadata": {},
   "source": [
    "# Spend rate estimation, changing price"
   ]
  },
  {
   "cell_type": "code",
   "execution_count": 172,
   "metadata": {},
   "outputs": [],
   "source": [
    "def estimate_spend_rate_cp(df_samples, budget, num_episodes, T):\n",
    "    df = df_samples.copy()\n",
    "    df['episodes'] = np.repeat(range(num_episodes),df_samples.shape[0]/num_episodes)\n",
    "    bandwidth = 0.1\n",
    "    eps = 0.001\n",
    "    episodic_spend_fn = {}\n",
    "    for e in range(num_episodes):\n",
    "        episodic_spend_fn[e] = {}\n",
    "        df_e = df[df['episode']==e]\n",
    "        episodic_spend_fn[e]['price_kde'] = sm.nonparametric.KDEUnivariate(df_e['competing_bid'])\n",
    "        episodic_spend_fn[e]['price_kde'].fit(bw=bandwidth)\n",
    "        episodic_spend_fn[e]['value_ecdf'] = ECDF(df_e['value'])\n",
    "        upper_lim = episodic_spend_fn[e]['price_kde'].support[-1]\n",
    "\n",
    "            \n",
    "        spend_e = lambda x: estimate_spend(episodic_spend_fn[e]['price_kde'],  episodic_spend_fn[e]['value_ecdf'], x, upper_lim)\n",
    "        episodic_spend_fn[e]['spend_bpb'] = spend_e\n",
    "        \n",
    "        \n",
    "    spend_per_round = budget/(num_episodes*T)\n",
    "    \n",
    "    theta = smallest_bpb_with_spend( lambda x: over_all_spend_bpb(episodic_spend_fn, x, num_episodes) , spend_per_round)\n",
    "    print(\"Our multuplier %f\"%theta)\n",
    "    \n",
    "    \n",
    "    spend_rates = np.empty((0))\n",
    "    spend_rate_ep = np.zeros(num_episodes)\n",
    "    for e in range(num_episodes):\n",
    "        spend_rate_e = episodic_spend_fn[e]['spend_bpb'](theta)\n",
    "        spend_rate_ep[e] = spend_rate_e\n",
    "\n",
    "    spend_rate_ep = spend_rate_ep.clip( min = 1/(num_episodes*100))\n",
    "\n",
    "    spend_rates = np.repeat(spend_rate_ep,T)\n",
    "    \n",
    "    spend_sum = np.sum(spend_rates)\n",
    "    if spend_sum != 0:\n",
    "        spend_rates = (spend_rates/spend_sum)*budget\n",
    "    return spend_rates"
   ]
  },
  {
   "cell_type": "code",
   "execution_count": 173,
   "metadata": {},
   "outputs": [],
   "source": [
    "def estimate_spend(price_kde, value_ecdf, bang_per_buck,  h=10):\n",
    "    if(bang_per_buck < 1):\n",
    "        bang_per_buck = 1\n",
    "    spend_p = lambda x: (price_kde.evaluate(x)[0])*x*(1-value_ecdf(bang_per_buck*x))\n",
    "    return integrate.quad(spend_p, 0, h)[0]"
   ]
  },
  {
   "cell_type": "code",
   "execution_count": 174,
   "metadata": {},
   "outputs": [],
   "source": [
    "def over_all_spend_bpb(episodic_spend_fn, bang_per_buck, num_episodes):\n",
    "    spend_c = 0\n",
    "    for e in range(num_episodes):\n",
    "        spend_c = spend_c + episodic_spend_fn[e]['spend_bpb'](bang_per_buck)\n",
    "    return spend_c/num_episodes"
   ]
  },
  {
   "cell_type": "code",
   "execution_count": 175,
   "metadata": {},
   "outputs": [],
   "source": [
    "def smallest_bpb_with_spend(spend_fn, spend):\n",
    "    eps = 1e-3\n",
    "    l = 0\n",
    "    r = 1.0\n",
    "    while(spend_fn(r) > spend):\n",
    "        r = 2*r\n",
    "    x = (l+r)/2\n",
    "    while (r-l > eps):\n",
    "        x = (l+r)/2\n",
    "        if (spend_fn(x) < spend):\n",
    "            r = x\n",
    "        else:\n",
    "            l = x\n",
    "    return x"
   ]
  },
  {
   "cell_type": "markdown",
   "metadata": {},
   "source": [
    "## Linear spend rate"
   ]
  },
  {
   "cell_type": "code",
   "execution_count": 176,
   "metadata": {},
   "outputs": [],
   "source": [
    "def linear_spend_rate(budget, num_rounds):\n",
    "    \"\"\"\n",
    "    Linear OC. Assumes interarrival time between the impressions is uniform.\n",
    "    \n",
    "    Args:\n",
    "        budget: budget to be divided\n",
    "        num_rounds: number of rounds the budget needs to be divided into\n",
    "\n",
    "    Returns:\n",
    "        Linear (OC)\n",
    "        \n",
    "    \"\"\"\n",
    "    \n",
    "    return [budget/num_rounds]*num_rounds"
   ]
  },
  {
   "cell_type": "code",
   "execution_count": 177,
   "metadata": {},
   "outputs": [],
   "source": [
    "def change_OC(df_in):\n",
    "    df = df_in.copy()\n",
    "    mapping = {'fixed_p': 'Fixed pacing','lin' : 'Fixed spend (BG19)', 'dist' : 'Changing spend (this)', 'hindsight':'Optimal', 'truthful': 'Truthful'}\n",
    "    df['Algorithm'] = \"\"\n",
    "    for i in range(df_in.shape[0]):\n",
    "        df['Algorithm'].iloc[i] = mapping[ df['OC'].iloc[i]] \n",
    "    return df"
   ]
  },
  {
   "cell_type": "markdown",
   "metadata": {},
   "source": [
    "## Regret (not used in experiments as of now)"
   ]
  },
  {
   "cell_type": "code",
   "execution_count": 178,
   "metadata": {},
   "outputs": [],
   "source": [
    "def paced_regret_u(hindsight_df, pacing_df):\n",
    "    \"\"\"\n",
    "    Final utility regret. Returns percent regret measured with respect to the hindsight value\n",
    "    \"\"\"\n",
    "    hindsight_total_val = hindsight_df['utility'].sum()\n",
    "    paced_total_val = pacing_df['utility'].sum()\n",
    "    return ((hindsight_total_val - paced_total_val)*100/hindsight_total_val)"
   ]
  },
  {
   "cell_type": "markdown",
   "metadata": {},
   "source": [
    "# Facebook data"
   ]
  },
  {
   "cell_type": "markdown",
   "metadata": {},
   "source": [
    "# <span style='color:red'> Change the following 2 functions!!!  </span> "
   ]
  },
  {
   "cell_type": "code",
   "execution_count": 179,
   "metadata": {},
   "outputs": [],
   "source": [
    "def get_fb_data(campaigns,num_episodes, T, training_samples_per_episode):\n",
    "    campaign = random.choice(campaigns)\n",
    "    print(campaign)\n",
    "    episode_length_minutes =  (24*60)/num_episodes\n",
    "    test_data = get_transformed_data_from_campaign(campaign,  T, episode_length_minutes)\n",
    "    \n",
    "    training_data = get_transformed_data_from_campaign(campaign, training_samples_per_episode, episode_length_minutes)\n",
    "    \n",
    "    return test_data, training_data"
   ]
  },
  {
   "cell_type": "markdown",
   "metadata": {},
   "source": [
    "### <span style='color:red'> The followig function is just a dummy, use the function that returns fixed impressions per bucket transform instead of following </span> "
   ]
  },
  {
   "cell_type": "code",
   "execution_count": 193,
   "metadata": {},
   "outputs": [],
   "source": [
    "def get_transformed_data_from_campaign(campaign,samples_per_episode, episode_length_minutes):\n",
    "    num_episodes = int((24*60)/episode_length_minutes)\n",
    "    val = np.empty((0))\n",
    "    episode = np.empty((0))\n",
    "    for i in range(num_episodes):\n",
    "        val = np.append(val, np.random.uniform( 1 + 0.1*i, 2 + 0.1*i,samples_per_episode))\n",
    "        episode = np.append(episode, np.full(samples_per_episode, i))\n",
    "    df = pd.DataFrame()\n",
    "    df['value'] = val\n",
    "    df['competing_bid'] = 1\n",
    "    df['episode'] = episode\n",
    "    return df"
   ]
  },
  {
   "cell_type": "code",
   "execution_count": 194,
   "metadata": {},
   "outputs": [],
   "source": [
    "campaigns = ['1', '2'] #campaign names as strings"
   ]
  },
  {
   "cell_type": "markdown",
   "metadata": {},
   "source": [
    "# Experiment script"
   ]
  },
  {
   "cell_type": "code",
   "execution_count": 197,
   "metadata": {},
   "outputs": [],
   "source": [
    "columns_plot = ['utility', 'spend']"
   ]
  },
  {
   "cell_type": "code",
   "execution_count": 198,
   "metadata": {},
   "outputs": [],
   "source": [
    "dataset = 'fb_campaigns'\n",
    "data_oracle = lambda num_episodes, T, training_samples_per_episode: get_fb_data(campaigns,num_episodes, T, training_samples_per_episode)\n",
    "spend_rate_estimation_oracle = estimate_spend_rate_cp "
   ]
  },
  {
   "cell_type": "markdown",
   "metadata": {},
   "source": [
    "## Set num episodes appropriately, maybe 24"
   ]
  },
  {
   "cell_type": "code",
   "execution_count": 199,
   "metadata": {},
   "outputs": [],
   "source": [
    "T = 100 #Number of impressions in each episode\n",
    "num_episodes = 10 #Number of episodes\n",
    "training_samples_per_episode = 100"
   ]
  },
  {
   "cell_type": "code",
   "execution_count": 200,
   "metadata": {},
   "outputs": [],
   "source": [
    "df_utility_res = {}\n",
    "df_utility_res[dataset] = pd.DataFrame (columns = ['utility', 'utility_h', 'budget_frac', 'OC']) "
   ]
  },
  {
   "cell_type": "code",
   "execution_count": 201,
   "metadata": {},
   "outputs": [],
   "source": [
    "OCs =['truthful','lin','dist']"
   ]
  },
  {
   "cell_type": "code",
   "execution_count": 202,
   "metadata": {},
   "outputs": [],
   "source": [
    "num_exp = 10 #number of times the experiment to be repeated\n",
    "learning_rate = 0.1"
   ]
  },
  {
   "cell_type": "markdown",
   "metadata": {},
   "source": [
    "## Set num_exp = 1 and uncomment the end of the following block to see what the graph for the one instance looks like if needed for debugging. Use  num_exp = 150 for the main run\n"
   ]
  },
  {
   "cell_type": "code",
   "execution_count": 207,
   "metadata": {},
   "outputs": [
    {
     "name": "stdout",
     "output_type": "stream",
     "text": [
      "0\n",
      "2\n",
      "budget_frac = 1.000764\n",
      "Our multuplier 0.000977\n"
     ]
    },
    {
     "name": "stderr",
     "output_type": "stream",
     "text": [
      "<ipython-input-173-b08843ae2a6d>:5: IntegrationWarning: The maximum number of subdivisions (50) has been achieved.\n",
      "  If increasing the limit yields no improvement it is advised to analyze \n",
      "  the integrand in order to determine the difficulties.  If the position of a \n",
      "  local difficulty can be determined (singularity, discontinuity) one will \n",
      "  probably gain from splitting up the interval and calling the integrator \n",
      "  on the subranges.  Perhaps a special-purpose integrator should be used.\n",
      "  return integrate.quad(spend_p, 0, h)[0]\n"
     ]
    },
    {
     "name": "stdout",
     "output_type": "stream",
     "text": [
      "2\n",
      "budget_frac = 0.233397\n"
     ]
    },
    {
     "name": "stderr",
     "output_type": "stream",
     "text": [
      "<ipython-input-173-b08843ae2a6d>:5: IntegrationWarning: The maximum number of subdivisions (50) has been achieved.\n",
      "  If increasing the limit yields no improvement it is advised to analyze \n",
      "  the integrand in order to determine the difficulties.  If the position of a \n",
      "  local difficulty can be determined (singularity, discontinuity) one will \n",
      "  probably gain from splitting up the interval and calling the integrator \n",
      "  on the subranges.  Perhaps a special-purpose integrator should be used.\n",
      "  return integrate.quad(spend_p, 0, h)[0]\n"
     ]
    },
    {
     "name": "stdout",
     "output_type": "stream",
     "text": [
      "Our multuplier 2.649414\n",
      "2\n",
      "budget_frac = 0.679671\n"
     ]
    },
    {
     "name": "stderr",
     "output_type": "stream",
     "text": [
      "<ipython-input-173-b08843ae2a6d>:5: IntegrationWarning: The maximum number of subdivisions (50) has been achieved.\n",
      "  If increasing the limit yields no improvement it is advised to analyze \n",
      "  the integrand in order to determine the difficulties.  If the position of a \n",
      "  local difficulty can be determined (singularity, discontinuity) one will \n",
      "  probably gain from splitting up the interval and calling the integrator \n",
      "  on the subranges.  Perhaps a special-purpose integrator should be used.\n",
      "  return integrate.quad(spend_p, 0, h)[0]\n"
     ]
    },
    {
     "name": "stdout",
     "output_type": "stream",
     "text": [
      "Our multuplier 2.239258\n",
      "2\n",
      "budget_frac = 0.929341\n"
     ]
    },
    {
     "name": "stderr",
     "output_type": "stream",
     "text": [
      "<ipython-input-173-b08843ae2a6d>:5: IntegrationWarning: The maximum number of subdivisions (50) has been achieved.\n",
      "  If increasing the limit yields no improvement it is advised to analyze \n",
      "  the integrand in order to determine the difficulties.  If the position of a \n",
      "  local difficulty can be determined (singularity, discontinuity) one will \n",
      "  probably gain from splitting up the interval and calling the integrator \n",
      "  on the subranges.  Perhaps a special-purpose integrator should be used.\n",
      "  return integrate.quad(spend_p, 0, h)[0]\n"
     ]
    },
    {
     "name": "stdout",
     "output_type": "stream",
     "text": [
      "Our multuplier 1.846680\n",
      "2\n",
      "budget_frac = 1.382009\n",
      "Our multuplier 0.000977\n"
     ]
    },
    {
     "name": "stderr",
     "output_type": "stream",
     "text": [
      "<ipython-input-173-b08843ae2a6d>:5: IntegrationWarning: The maximum number of subdivisions (50) has been achieved.\n",
      "  If increasing the limit yields no improvement it is advised to analyze \n",
      "  the integrand in order to determine the difficulties.  If the position of a \n",
      "  local difficulty can be determined (singularity, discontinuity) one will \n",
      "  probably gain from splitting up the interval and calling the integrator \n",
      "  on the subranges.  Perhaps a special-purpose integrator should be used.\n",
      "  return integrate.quad(spend_p, 0, h)[0]\n"
     ]
    },
    {
     "name": "stdout",
     "output_type": "stream",
     "text": [
      "5\n",
      "1\n",
      "budget_frac = 1.397078\n",
      "Our multuplier 0.000977\n"
     ]
    },
    {
     "name": "stderr",
     "output_type": "stream",
     "text": [
      "<ipython-input-173-b08843ae2a6d>:5: IntegrationWarning: The maximum number of subdivisions (50) has been achieved.\n",
      "  If increasing the limit yields no improvement it is advised to analyze \n",
      "  the integrand in order to determine the difficulties.  If the position of a \n",
      "  local difficulty can be determined (singularity, discontinuity) one will \n",
      "  probably gain from splitting up the interval and calling the integrator \n",
      "  on the subranges.  Perhaps a special-purpose integrator should be used.\n",
      "  return integrate.quad(spend_p, 0, h)[0]\n"
     ]
    },
    {
     "name": "stdout",
     "output_type": "stream",
     "text": [
      "1\n",
      "budget_frac = 0.942864\n"
     ]
    },
    {
     "name": "stderr",
     "output_type": "stream",
     "text": [
      "<ipython-input-173-b08843ae2a6d>:5: IntegrationWarning: The maximum number of subdivisions (50) has been achieved.\n",
      "  If increasing the limit yields no improvement it is advised to analyze \n",
      "  the integrand in order to determine the difficulties.  If the position of a \n",
      "  local difficulty can be determined (singularity, discontinuity) one will \n",
      "  probably gain from splitting up the interval and calling the integrator \n",
      "  on the subranges.  Perhaps a special-purpose integrator should be used.\n",
      "  return integrate.quad(spend_p, 0, h)[0]\n"
     ]
    },
    {
     "name": "stdout",
     "output_type": "stream",
     "text": [
      "Our multuplier 1.901367\n",
      "1\n",
      "budget_frac = 0.019648\n"
     ]
    },
    {
     "name": "stderr",
     "output_type": "stream",
     "text": [
      "<ipython-input-173-b08843ae2a6d>:5: IntegrationWarning: The maximum number of subdivisions (50) has been achieved.\n",
      "  If increasing the limit yields no improvement it is advised to analyze \n",
      "  the integrand in order to determine the difficulties.  If the position of a \n",
      "  local difficulty can be determined (singularity, discontinuity) one will \n",
      "  probably gain from splitting up the interval and calling the integrator \n",
      "  on the subranges.  Perhaps a special-purpose integrator should be used.\n",
      "  return integrate.quad(spend_p, 0, h)[0]\n"
     ]
    },
    {
     "name": "stdout",
     "output_type": "stream",
     "text": [
      "Our multuplier 3.231445\n",
      "1\n",
      "budget_frac = 0.583892\n"
     ]
    },
    {
     "name": "stderr",
     "output_type": "stream",
     "text": [
      "<ipython-input-173-b08843ae2a6d>:5: IntegrationWarning: The maximum number of subdivisions (50) has been achieved.\n",
      "  If increasing the limit yields no improvement it is advised to analyze \n",
      "  the integrand in order to determine the difficulties.  If the position of a \n",
      "  local difficulty can be determined (singularity, discontinuity) one will \n",
      "  probably gain from splitting up the interval and calling the integrator \n",
      "  on the subranges.  Perhaps a special-purpose integrator should be used.\n",
      "  return integrate.quad(spend_p, 0, h)[0]\n"
     ]
    },
    {
     "name": "stdout",
     "output_type": "stream",
     "text": [
      "Our multuplier 2.305664\n",
      "2\n",
      "budget_frac = 0.499014\n"
     ]
    },
    {
     "name": "stderr",
     "output_type": "stream",
     "text": [
      "<ipython-input-173-b08843ae2a6d>:5: IntegrationWarning: The maximum number of subdivisions (50) has been achieved.\n",
      "  If increasing the limit yields no improvement it is advised to analyze \n",
      "  the integrand in order to determine the difficulties.  If the position of a \n",
      "  local difficulty can be determined (singularity, discontinuity) one will \n",
      "  probably gain from splitting up the interval and calling the integrator \n",
      "  on the subranges.  Perhaps a special-purpose integrator should be used.\n",
      "  return integrate.quad(spend_p, 0, h)[0]\n"
     ]
    },
    {
     "name": "stdout",
     "output_type": "stream",
     "text": [
      "Our multuplier 2.422852\n"
     ]
    }
   ],
   "source": [
    "for exp_c in range(num_exp):\n",
    "    if exp_c%5==0:\n",
    "        print(exp_c)\n",
    "\n",
    "    data, training_data = data_oracle(num_episodes, T, training_samples_per_episode)\n",
    "    budget_frac = np.random.uniform(0,1.5)\n",
    "    budget_total = data[data['value'] > data['competing_bid'] ]['competing_bid'].sum()\n",
    "    print(\"budget_frac = %f\"%budget_frac)\n",
    "    budget = budget_total*budget_frac\n",
    "    target_dist_spend = spend_rate_estimation_oracle(df_samples = training_data, budget = budget, num_episodes = num_episodes, T = T)\n",
    "    target_lin_spend = linear_spend_rate(budget, num_episodes*T)\n",
    "    paced_df = {}\n",
    "    paced_df['hindsight'] = hindsight_strategy(data, budget = budget)\n",
    "    utility_h = paced_df['hindsight']['utility'].sum()\n",
    "    for OC in OCs:\n",
    "        if OC == 'lin':\n",
    "            adaptive_pacing_df = adaptive_pacing_bg(data.copy(), target_lin_spend, learning_rate)\n",
    "        elif OC == 'dist':\n",
    "            adaptive_pacing_df = adaptive_pacing_bg(data.copy(), target_dist_spend, learning_rate)\n",
    "        elif OC == 'truthful':\n",
    "            adaptive_pacing_df = truthful_bidding(data.copy(), budget = budget)\n",
    "        else:\n",
    "            raise NameError('Invalid OC type')\n",
    "        paced_df[OC] = adaptive_pacing_df.copy()\n",
    "        row = {'utility' : adaptive_pacing_df[\"utility\"].sum(), 'utility_h' : utility_h, 'budget_frac' : budget_frac, 'OC' : OC}\n",
    "        df_utility_res[dataset] = df_utility_res[dataset].append(row,ignore_index=True)\n",
    "        \n",
    "#     df_cum = paced_df['hindsight'][ columns_plot ].cumsum()\n",
    "#     df_cum['index'] = df_cum.index\n",
    "#     df_tidy =  pd.melt(df_cum, id_vars=['index'], var_name='cols', value_name = 'cumm_value')\n",
    "#     df_tidy['OC'] = 'hindsight'\n",
    "#     df_plot = df_tidy.copy()\n",
    "#     for OC in OCs:\n",
    "#         df_cum = paced_df[OC][ columns_plot ].cumsum()\n",
    "#         df_cum['index'] = df_cum.index\n",
    "#         df_tidy =  pd.melt(df_cum, id_vars=['index'], var_name='cols', value_name = 'cumm_value')\n",
    "#         df_tidy['OC'] = OC\n",
    "#         df_plot = pd.concat([df_plot, df_tidy])\n",
    "#     df_plot['col'] = df_plot[['cols', 'OC']].apply(lambda x: '_'.join(x), axis = 1)\n",
    "\n",
    "#     ax = sns.relplot(\n",
    "#     x ='index',\n",
    "#     y ='cumm_value',\n",
    "#     kind ='line',\n",
    "#     hue = 'col',\n",
    "#     height = 8,\n",
    "#     data = df_plot\n",
    "#     )\n",
    "#     ax.set(xlabel='t', ylabel='Cummulative magnitude', title=('Performance on ' + dataset + ' dataset'))\n",
    "        "
   ]
  },
  {
   "cell_type": "code",
   "execution_count": 208,
   "metadata": {},
   "outputs": [],
   "source": [
    "df_utility_res[dataset]['fractional_ut'] = df_utility_res[dataset]['utility']/df_utility_res[dataset]['utility_h']\n",
    "df_utility_res[dataset]['dataset'] = dataset"
   ]
  },
  {
   "cell_type": "code",
   "execution_count": 209,
   "metadata": {},
   "outputs": [],
   "source": [
    "res_addr = '/home/ubuntu/work/pacing/data/res/' + dataset +'.pkl'\n",
    "plot_addr_base = '/home/ubuntu/work/pacing/data/plots/'"
   ]
  },
  {
   "cell_type": "code",
   "execution_count": 210,
   "metadata": {},
   "outputs": [],
   "source": [
    "# Save to pickle for backup\n",
    "df_utility_res[dataset].to_pickle(res_addr)"
   ]
  },
  {
   "cell_type": "code",
   "execution_count": 99,
   "metadata": {},
   "outputs": [],
   "source": [
    "#load backup if needed\n",
    "df_utility_res[dataset]  = pd.read_pickle(res_addr)"
   ]
  },
  {
   "cell_type": "code",
   "execution_count": 211,
   "metadata": {},
   "outputs": [
    {
     "name": "stderr",
     "output_type": "stream",
     "text": [
      "/home/ubuntu/work/anaconda3/lib/python3.8/site-packages/pandas/core/indexing.py:670: SettingWithCopyWarning: \n",
      "A value is trying to be set on a copy of a slice from a DataFrame\n",
      "\n",
      "See the caveats in the documentation: https://pandas.pydata.org/pandas-docs/stable/user_guide/indexing.html#returning-a-view-versus-a-copy\n",
      "  iloc._setitem_with_indexer(indexer, value)\n"
     ]
    },
    {
     "data": {
      "image/png": "[encoded data removed]",
      "text/plain": [
       "<Figure size 521.6x360 with 1 Axes>"
      ]
     },
     "metadata": {},
     "output_type": "display_data"
    }
   ],
   "source": [
    "ax = sns.relplot(\n",
    "    x ='budget_frac',\n",
    "    y ='fractional_ut',\n",
    "    kind = 'scatter',\n",
    "    hue = 'Algorithm',\n",
    "    style=\"Algorithm\",\n",
    "    col = \"dataset\",\n",
    "    height = 5,\n",
    "    col_wrap=1,\n",
    "    data = change_OC(df_utility_res[dataset]),\n",
    "    s= 50,\n",
    "    legend = True\n",
    "    )\n",
    "\n",
    "ax.set(xlabel='budget/buy_all_budget' , ylabel='Utlity / Opt Utility')\n",
    "plt.savefig(plot_base + dataset + \".eps\",dpi=300, bbox_inches='tight')"
   ]
  },
  {
   "cell_type": "code",
   "execution_count": null,
   "metadata": {},
   "outputs": [],
   "source": []
  }
 ],
 "metadata": {
  "kernelspec": {
   "display_name": "Python 3",
   "language": "python",
   "name": "python3"
  },
  "language_info": {
   "codemirror_mode": {
    "name": "ipython",
    "version": 3
   },
   "file_extension": ".py",
   "mimetype": "text/x-python",
   "name": "python",
   "nbconvert_exporter": "python",
   "pygments_lexer": "ipython3",
   "version": "3.8.5"
  }
 },
 "nbformat": 4,
 "nbformat_minor": 4
}
